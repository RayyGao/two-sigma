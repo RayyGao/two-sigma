{
 "cells": [
  {
   "cell_type": "code",
   "execution_count": 1,
   "metadata": {
    "collapsed": true
   },
   "outputs": [],
   "source": [
    "import pylab\n",
    "import calendar\n",
    "import numpy as np\n",
    "import pandas as pd\n",
    "import seaborn as sns\n",
    "from scipy import stats\n",
    "from datetime import datetime\n",
    "import matplotlib.pyplot as plt\n",
    "import random"
   ]
  },
  {
   "cell_type": "code",
   "execution_count": 7,
   "metadata": {
    "collapsed": false
   },
   "outputs": [],
   "source": [
    "processed_data=pd.read_json(\"../data/processed_train.json\")\n",
    "img=pd.read_csv(\"../data/image_stats-fixed.csv\",index_col=0)\n",
    "#processed_data=processed_data.merge(img,how=\"left\",on=\"listing_id\")"
   ]
  },
  {
   "cell_type": "code",
   "execution_count": 8,
   "metadata": {
    "collapsed": false
   },
   "outputs": [],
   "source": [
    "processed_data=processed_data.fillna(0)"
   ]
  },
  {
   "cell_type": "code",
   "execution_count": 9,
   "metadata": {
    "collapsed": true
   },
   "outputs": [],
   "source": [
    "random.seed(0)\n",
    "train_data=processed_data.sample(n=processed_data.shape[0]*7/10)\n",
    "test_data=processed_data.drop(train_data.index)"
   ]
  },
  {
   "cell_type": "code",
   "execution_count": 10,
   "metadata": {
    "collapsed": false
   },
   "outputs": [
    {
     "data": {
      "text/plain": [
       "Index([u'By Owner', u'Cats Allowed', u'Common Outdoor Space', u'Dogs Allowed',\n",
       "       u'Doorman', u'Elevator', u'Exclusive', u'Fitness Center', u'Furnished',\n",
       "       u'Laundry In Building', u'Laundry In Unit', u'No Fee', u'Parking Space',\n",
       "       u'Private Outdoor Space', u'Reduced Fee', u'Short Term Allowed',\n",
       "       u'Storage Facility', u'Sublet / Lease-Break', u'avg_brightness',\n",
       "       u'avg_imagesize', u'avg_luminance', u'bathrooms', u'bedrooms',\n",
       "       u'building_id', u'created', u'description', u'description_sentiment',\n",
       "       u'display_address', u'dist_count', u'features', u'img_quantity',\n",
       "       u'interest_level', u'latitude', u'listing_id', u'longitude',\n",
       "       u'manager count', u'manager_id', u'photos', u'price', u'street_address',\n",
       "       u'unique_count', u'word_count'],\n",
       "      dtype='object')"
      ]
     },
     "execution_count": 10,
     "metadata": {},
     "output_type": "execute_result"
    }
   ],
   "source": [
    "processed_data.columns"
   ]
  },
  {
   "cell_type": "code",
   "execution_count": 17,
   "metadata": {
    "collapsed": false
   },
   "outputs": [],
   "source": [
    "##########################first try with all numeric features in datasets##########################################\n",
    "train=train_data.drop(['building_id','created','description','display_address','longitude','latitude','manager count','manager_id','listing_id','photos','street_address','features'],axis=1)\n",
    "test=test_data.drop(['building_id','created','description','display_address','manager count','longitude','latitude','manager_id','listing_id','photos','street_address','features'],axis=1)"
   ]
  },
  {
   "cell_type": "code",
   "execution_count": 9,
   "metadata": {
    "collapsed": false
   },
   "outputs": [],
   "source": [
    "#base model 1: multinomial logistic regression\n",
    "#base model 2: bagged decision trees\n",
    "#base model 3: Random Forest trees\n",
    "#base model 4: SVM\n",
    "#base model 5: bayes classifier\n",
    "#base model 6: Ada Boosting\n",
    "y_train=train.loc[:,'interest_level']\n",
    "x_train=train.drop('interest_level',axis=1)\n",
    "y_test=test.loc[:,'interest_level']\n",
    "x_test=test.drop('interest_level',axis=1)"
   ]
  },
  {
   "cell_type": "code",
   "execution_count": 10,
   "metadata": {
    "collapsed": true
   },
   "outputs": [],
   "source": [
    "#base model 1: multinomial logistic regression\n",
    "from sklearn.linear_model import LogisticRegression\n",
    "from sklearn.metrics import accuracy_score\n",
    "def mlog(x_train,y_train,x_test):\n",
    "    lr = LogisticRegression().fit(x_train, y_train)\n",
    "    return lr.predict(x_test)"
   ]
  },
  {
   "cell_type": "code",
   "execution_count": 140,
   "metadata": {
    "collapsed": false
   },
   "outputs": [],
   "source": [
    "#base model 2: bagged decision trees\n",
    "from sklearn import model_selection\n",
    "from sklearn.ensemble import BaggingClassifier\n",
    "from sklearn.tree import DecisionTreeClassifier\n",
    "def bagDT(x_train,y_train,x_test,y_test):\n",
    "    kfold = model_selection.KFold(n_splits=10)\n",
    "    cart = DecisionTreeClassifier()\n",
    "    num_trees = 100\n",
    "    model = BaggingClassifier(base_estimator=cart, n_estimators=num_trees)\n",
    "    model.fit(x_train,y_train)\n",
    "    predict = model_selection.cross_val_predict(model, x_test, y_test, cv=kfold)\n",
    "    return predict"
   ]
  },
  {
   "cell_type": "code",
   "execution_count": 141,
   "metadata": {
    "collapsed": false
   },
   "outputs": [],
   "source": [
    "#base model 3: Random Forest trees\n",
    "from sklearn.ensemble import RandomForestClassifier\n",
    "seed = 7\n",
    "def rfClassifier(x_train,y_train,x_test,y_test):\n",
    "    num_trees = 100\n",
    "    max_features = 3\n",
    "    kfold = model_selection.KFold(n_splits=10, random_state=seed)\n",
    "    model = RandomForestClassifier(n_estimators=num_trees, max_features=max_features)\n",
    "    model.fit(x_train,y_train)\n",
    "    predicted = model_selection.cross_val_predict(model, x_test, y_test, cv=kfold)\n",
    "    return predicted"
   ]
  },
  {
   "cell_type": "code",
   "execution_count": 142,
   "metadata": {
    "collapsed": false
   },
   "outputs": [],
   "source": [
    "#base model 4: SVM\n",
    "#use cross validation to select cost, cost(default)=1\n",
    "from sklearn import svm\n",
    "def svmm(x_train,y_train,x_test):\n",
    "    clf = svm.SVC(decision_function_shape='ovr')\n",
    "    clf.fit(x_train, y_train) \n",
    "    return clf.predict(x_test)"
   ]
  },
  {
   "cell_type": "code",
   "execution_count": 143,
   "metadata": {
    "collapsed": false
   },
   "outputs": [],
   "source": [
    "#accuracy_score(svmm(x_train,y_train,x_test),test_data.loc[:,'interest_level'])"
   ]
  },
  {
   "cell_type": "code",
   "execution_count": 144,
   "metadata": {
    "collapsed": false
   },
   "outputs": [],
   "source": [
    "#base model 5: Naive Bayes Classifier\n",
    "from sklearn.naive_bayes import GaussianNB\n",
    "def mnb(x_train,y_train,x_test):\n",
    "    gnb=GaussianNB()\n",
    "    y_pred = gnb.fit(x_train, y_train).predict(x_test)\n",
    "    return y_pred"
   ]
  },
  {
   "cell_type": "code",
   "execution_count": 145,
   "metadata": {
    "collapsed": false
   },
   "outputs": [],
   "source": [
    "#base model 6: Ada boosting classifier\n",
    "from sklearn.model_selection import cross_val_score\n",
    "from sklearn.datasets import load_iris\n",
    "from sklearn.ensemble import AdaBoostClassifier\n",
    "def adaBC(x_train,y_train,x_test):\n",
    "    clf = AdaBoostClassifier(n_estimators=100)\n",
    "    clf.fit(x_train,y_train)\n",
    "    return clf.predict(x_test)"
   ]
  },
  {
   "cell_type": "code",
   "execution_count": null,
   "metadata": {
    "collapsed": false
   },
   "outputs": [],
   "source": []
  },
  {
   "cell_type": "code",
   "execution_count": 146,
   "metadata": {
    "collapsed": false
   },
   "outputs": [],
   "source": [
    "###############################now we ensemble them ###########################################################\n",
    "#1st: partition the train set into 6 test sets\n",
    "k=x_train.shape[0]/5\n",
    "x_sp=[[],[],[],[],[]]\n",
    "for i in range(4):\n",
    "    sample=random.sample(x_train.index,k)\n",
    "    x_sp[i]=x_train.ix[sample]\n",
    "    x_train=x_train.drop(sample)\n",
    "x_sp[4]=x_train"
   ]
  },
  {
   "cell_type": "code",
   "execution_count": 147,
   "metadata": {
    "collapsed": false
   },
   "outputs": [
    {
     "data": {
      "text/html": [
       "<div>\n",
       "<table border=\"1\" class=\"dataframe\">\n",
       "  <thead>\n",
       "    <tr style=\"text-align: right;\">\n",
       "      <th></th>\n",
       "    </tr>\n",
       "  </thead>\n",
       "  <tbody>\n",
       "  </tbody>\n",
       "</table>\n",
       "</div>"
      ],
      "text/plain": [
       "Empty DataFrame\n",
       "Columns: []\n",
       "Index: []"
      ]
     },
     "execution_count": 147,
     "metadata": {},
     "output_type": "execute_result"
    }
   ],
   "source": [
    "#2nd: create train_meta and test_meta\n",
    "train_meta=pd.DataFrame()\n",
    "train_meta"
   ]
  },
  {
   "cell_type": "code",
   "execution_count": 148,
   "metadata": {
    "collapsed": false
   },
   "outputs": [],
   "source": [
    "#3rd: for each fold in 1st, use other 5 folds as training set to predict the result for that fold.\n",
    "#and save them in train_meta\n",
    "x_train=train.drop('interest_level',axis=1)\n",
    "for i in range(5):\n",
    "    x_sub_test=x_sp[i]\n",
    "    x_sub_train=x_train.drop(x_sub_test.index)\n",
    "    y_sub_test=y_train[x_sub_test.index]\n",
    "    y_sub_train=y_train[x_sub_train.index]\n",
    "    M1=pd.Series(mlog(x_sub_train,y_sub_train,x_sub_test),index=x_sub_test.index)\n",
    "    M2=pd.Series(bagDT(x_sub_train,y_sub_train,x_sub_test,y_sub_test),index=x_sub_test.index)\n",
    "    M3=pd.Series(rfClassifier(x_sub_train,y_sub_train,x_sub_test,y_sub_test),index=x_sub_test.index)\n",
    "    M4=pd.Series(svmm(x_sub_train,y_sub_train,x_sub_test),index=x_sub_test.index)\n",
    "    M5=pd.Series(mnb(x_sub_train,y_sub_train,x_sub_test),index=x_sub_test.index)\n",
    "    M6=pd.Series(adaBC(x_sub_train,y_sub_train,x_sub_test),index=x_sub_test.index)\n",
    "    app={'M1':M1,'M2':M2,'M3':M3, 'M4':M4, 'M5':M5,'M6':M6}\n",
    "    train_meta=train_meta.append(pd.DataFrame(app))"
   ]
  },
  {
   "cell_type": "code",
   "execution_count": 149,
   "metadata": {
    "collapsed": false
   },
   "outputs": [],
   "source": [
    "#4th:Fit each base model to the full training dataset \n",
    "#and make predictions on the test dataset. Store these predictions inside test_meta\n",
    "M1=pd.Series(mlog(x_train,y_train,x_test),index=x_test.index)\n",
    "M2=pd.Series(bagDT(x_train,y_train,x_test,y_test),index=x_test.index)\n",
    "M3=pd.Series(rfClassifier(x_train,y_train,x_test,y_test),index=x_test.index)\n",
    "M4=pd.Series(svmm(x_train,y_train,x_test),index=x_test.index)\n",
    "M5=pd.Series(mnb(x_train,y_train,x_test),index=x_test.index)\n",
    "M6=pd.Series(adaBC(x_train,y_train,x_test),index=x_test.index)\n",
    "test['M1']=M1\n",
    "test['M2']=M2\n",
    "test['M3']=M3\n",
    "test['M4']=M4\n",
    "test['M5']=M5\n",
    "test['M6']=M6"
   ]
  },
  {
   "cell_type": "code",
   "execution_count": 150,
   "metadata": {
    "collapsed": false
   },
   "outputs": [],
   "source": [
    "#5th: Fit a new model, S (i.e the stacking model) to train_meta, using M1 and M2 as features.\n",
    "#Optionally, include other features from the original training dataset or engineered features\n",
    "##==> transfer to dummy variables\n",
    "train_meta_dummy=pd.get_dummies(train_meta)\n",
    "test_meta=test.loc[:,['M1','M2','M3','M4','M5','M6']]\n",
    "test_meta_dummy=pd.get_dummies(test_meta)"
   ]
  },
  {
   "cell_type": "code",
   "execution_count": 151,
   "metadata": {
    "collapsed": false
   },
   "outputs": [
    {
     "name": "stdout",
     "output_type": "stream",
     "text": [
      "0.707078211536\n"
     ]
    },
    {
     "data": {
      "text/plain": [
       "low       13024\n",
       "medium     1234\n",
       "high        548\n",
       "dtype: int64"
      ]
     },
     "execution_count": 151,
     "metadata": {},
     "output_type": "execute_result"
    }
   ],
   "source": [
    "#random forest with meta only\n",
    "res=rfClassifier(train_meta_dummy,y_train,test_meta_dummy,y_test)\n",
    "print accuracy_score(res,y_test)\n",
    "pd.Series(res).value_counts()"
   ]
  },
  {
   "cell_type": "code",
   "execution_count": 128,
   "metadata": {
    "collapsed": false
   },
   "outputs": [],
   "source": [
    "####concate meta to original dataset and train it again########"
   ]
  },
  {
   "cell_type": "code",
   "execution_count": 152,
   "metadata": {
    "collapsed": false
   },
   "outputs": [],
   "source": [
    "x_last_train=pd.concat([train_meta_dummy,x_train],axis=1)\n",
    "x_last_test=pd.concat([test_meta_dummy,x_test],axis=1)"
   ]
  },
  {
   "cell_type": "code",
   "execution_count": 153,
   "metadata": {
    "collapsed": false
   },
   "outputs": [
    {
     "name": "stdout",
     "output_type": "stream",
     "text": [
      "0.718357422666\n"
     ]
    },
    {
     "data": {
      "text/plain": [
       "low       11999\n",
       "medium     2027\n",
       "high        780\n",
       "dtype: int64"
      ]
     },
     "execution_count": 153,
     "metadata": {},
     "output_type": "execute_result"
    }
   ],
   "source": [
    "#random forest with combined\n",
    "res=rfClassifier(x_last_train,y_train,x_last_test,y_test)\n",
    "print accuracy_score(res,y_test)\n",
    "pd.Series(res).value_counts()"
   ]
  },
  {
   "cell_type": "code",
   "execution_count": 162,
   "metadata": {
    "collapsed": false
   },
   "outputs": [],
   "source": [
    "train.to_json(\"train_data.json\")"
   ]
  },
  {
   "cell_type": "code",
   "execution_count": 164,
   "metadata": {
    "collapsed": false
   },
   "outputs": [],
   "source": [
    "test.to_json(\"test_data.json\")"
   ]
  },
  {
   "cell_type": "code",
   "execution_count": 165,
   "metadata": {
    "collapsed": true
   },
   "outputs": [],
   "source": [
    "x_last_train.to_json('train_meta_data.json')\n",
    "x_last_test.to_json('test_meta_data.json')"
   ]
  },
  {
   "cell_type": "code",
   "execution_count": 166,
   "metadata": {
    "collapsed": true
   },
   "outputs": [],
   "source": []
  },
  {
   "cell_type": "code",
   "execution_count": null,
   "metadata": {
    "collapsed": true
   },
   "outputs": [],
   "source": []
  }
 ],
 "metadata": {
  "anaconda-cloud": {},
  "kernelspec": {
   "display_name": "Python 2",
   "language": "python",
   "name": "python2"
  },
  "language_info": {
   "codemirror_mode": {
    "name": "ipython",
    "version": 2
   },
   "file_extension": ".py",
   "mimetype": "text/x-python",
   "name": "python",
   "nbconvert_exporter": "python",
   "pygments_lexer": "ipython2",
   "version": "2.7.12"
  }
 },
 "nbformat": 4,
 "nbformat_minor": 1
}
