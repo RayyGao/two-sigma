{
 "cells": [
  {
   "cell_type": "code",
   "execution_count": 1,
   "metadata": {
    "collapsed": true
   },
   "outputs": [],
   "source": [
    "import pylab\n",
    "import calendar\n",
    "import numpy as np\n",
    "import pandas as pd\n",
    "import seaborn as sns\n",
    "from scipy import stats\n",
    "from datetime import datetime\n",
    "import matplotlib.pyplot as plt\n",
    "import random"
   ]
  },
  {
   "cell_type": "code",
   "execution_count": 2,
   "metadata": {
    "collapsed": true
   },
   "outputs": [],
   "source": [
    "data=pd.read_json(\"train.json\")"
   ]
  },
  {
   "cell_type": "code",
   "execution_count": 3,
   "metadata": {
    "collapsed": false
   },
   "outputs": [
    {
     "data": {
      "text/plain": [
       "Index([u'bathrooms', u'bedrooms', u'building_id', u'created', u'description',\n",
       "       u'display_address', u'features', u'interest_level', u'latitude',\n",
       "       u'listing_id', u'longitude', u'manager_id', u'photos', u'price',\n",
       "       u'street_address'],\n",
       "      dtype='object')"
      ]
     },
     "execution_count": 3,
     "metadata": {},
     "output_type": "execute_result"
    }
   ],
   "source": [
    "data.columns"
   ]
  },
  {
   "cell_type": "code",
   "execution_count": 4,
   "metadata": {
    "collapsed": true
   },
   "outputs": [],
   "source": [
    "random.seed(0)\n",
    "train_data=data.sample(n=data.shape[0]*7/10)\n",
    "test_data=data.drop(train_data.index)"
   ]
  },
  {
   "cell_type": "code",
   "execution_count": 5,
   "metadata": {
    "collapsed": true
   },
   "outputs": [],
   "source": [
    "%matplotlib inline"
   ]
  },
  {
   "cell_type": "code",
   "execution_count": 132,
   "metadata": {
    "collapsed": true
   },
   "outputs": [],
   "source": [
    "##########################first try with all numeric features in datasets##########################################\n",
    "train=train_data.loc[:,['bathrooms','bedrooms','latitude','longitude','price','interest_level']]\n",
    "test=test_data.loc[:,['bathrooms','bedrooms','latitude','longitude','price','interest_level']]"
   ]
  },
  {
   "cell_type": "code",
   "execution_count": 7,
   "metadata": {
    "collapsed": false
   },
   "outputs": [],
   "source": [
    "#base model 1: multinomial logistic regression\n",
    "#base model 2: bagged decision trees\n",
    "#base model 3: Random Forest trees\n",
    "#base model 4: SVM\n",
    "#base model 5: bayes classifier?\n",
    "x_train=train.loc[:,['bathrooms','bedrooms','latitude','longitude','price']]\n",
    "y_train=train.loc[:,'interest_level']\n",
    "x_test=test.loc[:,['bathrooms','bedrooms','latitude','longitude','price']]\n",
    "y_test=test.loc[:,'interest_level']"
   ]
  },
  {
   "cell_type": "code",
   "execution_count": 8,
   "metadata": {
    "collapsed": true
   },
   "outputs": [],
   "source": [
    "#base model 1: multinomial logistic regression\n",
    "from sklearn.linear_model import LogisticRegression\n",
    "from sklearn.metrics import accuracy_score\n",
    "def mlog(x_train,y_train,x_test):\n",
    "    lr = LogisticRegression().fit(x_train, y_train)\n",
    "    return lr.predict(x_test)"
   ]
  },
  {
   "cell_type": "code",
   "execution_count": 11,
   "metadata": {
    "collapsed": false
   },
   "outputs": [
    {
     "data": {
      "text/plain": [
       "0.6960691611508848"
      ]
     },
     "execution_count": 11,
     "metadata": {},
     "output_type": "execute_result"
    }
   ],
   "source": [
    "###accuracy on total train and test\n",
    "accuracy_score(mlog(x_train,y_train,x_test),test.loc[:,'interest_level'])"
   ]
  },
  {
   "cell_type": "code",
   "execution_count": 49,
   "metadata": {
    "collapsed": false
   },
   "outputs": [],
   "source": [
    "#base model 2: bagged decision trees\n",
    "from sklearn import model_selection\n",
    "from sklearn.ensemble import BaggingClassifier\n",
    "from sklearn.tree import DecisionTreeClassifier\n",
    "def bagDT(x_train,y_train,x_test,y_test):\n",
    "    kfold = model_selection.KFold(n_splits=10)\n",
    "    cart = DecisionTreeClassifier()\n",
    "    num_trees = 100\n",
    "    model = BaggingClassifier(base_estimator=cart, n_estimators=num_trees, random_state=seed)\n",
    "    model.fit(x_train,y_train)\n",
    "    predict = model_selection.cross_val_predict(model, x_test, y_test, cv=kfold)\n",
    "    return predict"
   ]
  },
  {
   "cell_type": "code",
   "execution_count": 50,
   "metadata": {
    "collapsed": false
   },
   "outputs": [
    {
     "data": {
      "text/plain": [
       "array([u'low', u'low', u'high', ..., u'high', u'low', u'low'], dtype=object)"
      ]
     },
     "execution_count": 50,
     "metadata": {},
     "output_type": "execute_result"
    }
   ],
   "source": [
    "bagDT(x_train,y_train,x_test,y_test)"
   ]
  },
  {
   "cell_type": "code",
   "execution_count": 13,
   "metadata": {
    "collapsed": false
   },
   "outputs": [],
   "source": [
    "#base model 3: Random Forest trees\n",
    "from sklearn.ensemble import RandomForestClassifier\n",
    "seed = 7\n",
    "def rfClassifier(x_train,y_train,x_test,y_test):\n",
    "    num_trees = 100\n",
    "    max_features = 3\n",
    "    kfold = model_selection.KFold(n_splits=10, random_state=seed)\n",
    "    model = RandomForestClassifier(n_estimators=num_trees, max_features=max_features)\n",
    "    model.fit(x_train,y_train)\n",
    "    predicted = model_selection.cross_val_predict(model, x_test, y_test, cv=kfold)\n",
    "    return predicted"
   ]
  },
  {
   "cell_type": "code",
   "execution_count": 14,
   "metadata": {
    "collapsed": false
   },
   "outputs": [],
   "source": [
    "#base model 4: SVM\n",
    "#use cross validation to select cost, cost(default)=1\n",
    "from sklearn import svm\n",
    "def svmm(x_train,y_train,x_test):\n",
    "    clf = svm.SVC(decision_function_shape='ovr')\n",
    "    clf.fit(x_train, y_train) \n",
    "    return clf.predict(x_test)"
   ]
  },
  {
   "cell_type": "code",
   "execution_count": null,
   "metadata": {
    "collapsed": false
   },
   "outputs": [],
   "source": [
    "#accuracy_score(svmm(x_train,y_train,x_test),test_data.loc[:,'interest_level'])"
   ]
  },
  {
   "cell_type": "code",
   "execution_count": 63,
   "metadata": {
    "collapsed": false
   },
   "outputs": [],
   "source": [
    "#base model 5: Naive Bayes Classifier\n",
    "from sklearn.naive_bayes import GaussianNB\n",
    "def mnb(x_train,y_train,x_test):\n",
    "    gnb=GaussianNB()\n",
    "    y_pred = gnb.fit(x_train, y_train).predict(x_test)\n",
    "    return y_pred"
   ]
  },
  {
   "cell_type": "code",
   "execution_count": 55,
   "metadata": {
    "collapsed": false
   },
   "outputs": [],
   "source": [
    "###############################now we ensemble them ###########################################################\n",
    "#1st: partition the train set into 5 test sets\n",
    "k=x_train.shape[0]/5\n",
    "x_sp=[[],[],[],[],[]]\n",
    "for i in range(4):\n",
    "    sample=random.sample(x_train.index,k)\n",
    "    x_sp[i]=x_train.ix[sample]\n",
    "    x_train=x_train.drop(sample)\n",
    "x_sp[4]=x_train"
   ]
  },
  {
   "cell_type": "code",
   "execution_count": 68,
   "metadata": {
    "collapsed": false
   },
   "outputs": [
    {
     "data": {
      "text/html": [
       "<div>\n",
       "<table border=\"1\" class=\"dataframe\">\n",
       "  <thead>\n",
       "    <tr style=\"text-align: right;\">\n",
       "      <th></th>\n",
       "    </tr>\n",
       "  </thead>\n",
       "  <tbody>\n",
       "  </tbody>\n",
       "</table>\n",
       "</div>"
      ],
      "text/plain": [
       "Empty DataFrame\n",
       "Columns: []\n",
       "Index: []"
      ]
     },
     "execution_count": 68,
     "metadata": {},
     "output_type": "execute_result"
    }
   ],
   "source": [
    "#2nd: create train_meta and test_meta\n",
    "\n",
    "train_meta=pd.DataFrame()\n",
    "train_meta"
   ]
  },
  {
   "cell_type": "code",
   "execution_count": 69,
   "metadata": {
    "collapsed": false
   },
   "outputs": [],
   "source": [
    "#3rd: for each fold in 1st, use other 4 folds as training set to predict the result for that fold.\n",
    "#and save them in train_meta\n",
    "x_train=train.loc[:,['bathrooms','bedrooms','latitude','longitude','price']]\n",
    "for i in range(5):\n",
    "    x_sub_test=x_sp[i]\n",
    "    x_sub_train=x_train.drop(x_sub_test.index)\n",
    "    y_sub_test=y_train[x_sub_test.index]\n",
    "    y_sub_train=y_train[x_sub_train.index]\n",
    "    M1=pd.Series(mlog(x_sub_train,y_sub_train,x_sub_test),index=x_sub_test.index)\n",
    "    M2=pd.Series(bagDT(x_sub_train,y_sub_train,x_sub_test,y_sub_test),index=x_sub_test.index)\n",
    "    M3=pd.Series(rfClassifier(x_sub_train,y_sub_train,x_sub_test,y_sub_test),index=x_sub_test.index)\n",
    "    M4=pd.Series(svmm(x_sub_train,y_sub_train,x_sub_test),index=x_sub_test.index)\n",
    "    M5=pd.Series(mnb(x_sub_train,y_sub_train,x_sub_test),index=x_sub_test.index)\n",
    "    app={'M1':M1,'M2':M2,'M3':M3, 'M4':M4, 'M5':M5}\n",
    "    train_meta=train_meta.append(pd.DataFrame(app))"
   ]
  },
  {
   "cell_type": "code",
   "execution_count": 71,
   "metadata": {
    "collapsed": false
   },
   "outputs": [],
   "source": [
    "#4th:Fit each base model to the full training dataset \n",
    "#and make predictions on the test dataset. Store these predictions inside test_meta\n",
    "M1=pd.Series(mlog(x_train,y_train,x_test),index=x_test.index)\n",
    "M2=pd.Series(bagDT(x_train,y_train,x_test,y_test),index=x_test.index)\n",
    "M3=pd.Series(rfClassifier(x_train,y_train,x_test,y_test),index=x_test.index)\n",
    "M4=pd.Series(svmm(x_train,y_train,x_test),index=x_test.index)\n",
    "M5=pd.Series(mnb(x_train,y_train,x_test),index=x_test.index)\n",
    "test['M1']=M1\n",
    "test['M2']=M2\n",
    "test['M3']=M3\n",
    "test['M4']=M4\n",
    "test['M5']=M5\n"
   ]
  },
  {
   "cell_type": "code",
   "execution_count": 99,
   "metadata": {
    "collapsed": false
   },
   "outputs": [],
   "source": [
    "#5th: Fit a new model, S (i.e the stacking model) to train_meta, using M1 and M2 as features.\n",
    "#Optionally, include other features from the original training dataset or engineered features\n",
    "##==> transfer to dummy variables\n",
    "train_meta_dummy=pd.get_dummies(train_meta)\n",
    "test_meta=test.loc[:,['M1','M2','M3','M4','M5']]\n",
    "test_meta_dummy=pd.get_dummies(test_meta)"
   ]
  },
  {
   "cell_type": "code",
   "execution_count": 101,
   "metadata": {
    "collapsed": false
   },
   "outputs": [
    {
     "data": {
      "text/plain": [
       "0.69714980413345939"
      ]
     },
     "execution_count": 101,
     "metadata": {},
     "output_type": "execute_result"
    }
   ],
   "source": [
    "###using only meta data to test##########\n",
    "accuracy_score(mlog(train_meta_dummy,y_train,test_meta_dummy),y_test)\n",
    "buffer1=pd.Series(mlog(train_meta_dummy,y_train,test_meta_dummy))\n",
    "buffer1.value_counts()"
   ]
  },
  {
   "cell_type": "code",
   "execution_count": 127,
   "metadata": {
    "collapsed": false
   },
   "outputs": [
    {
     "name": "stdout",
     "output_type": "stream",
     "text": [
      "0.705727407808\n"
     ]
    },
    {
     "data": {
      "text/plain": [
       "low       13793\n",
       "medium      805\n",
       "high        208\n",
       "dtype: int64"
      ]
     },
     "execution_count": 127,
     "metadata": {},
     "output_type": "execute_result"
    }
   ],
   "source": [
    "#random forest\n",
    "res=rfClassifier(train_meta_dummy,y_train,test_meta_dummy,y_test)\n",
    "print accuracy_score(res,y_test)\n",
    "pd.Series(res).value_counts()"
   ]
  },
  {
   "cell_type": "code",
   "execution_count": 125,
   "metadata": {
    "collapsed": false
   },
   "outputs": [],
   "source": [
    "####concate meta to original dataset and train it again########"
   ]
  },
  {
   "cell_type": "code",
   "execution_count": 142,
   "metadata": {
    "collapsed": false
   },
   "outputs": [],
   "source": [
    "x_last_train=pd.concat([train_meta_dummy,x_train],axis=1)\n",
    "x_last_test=pd.concat([test_meta_dummy,x_test],axis=1)"
   ]
  },
  {
   "cell_type": "code",
   "execution_count": 143,
   "metadata": {
    "collapsed": false,
    "scrolled": true
   },
   "outputs": [
    {
     "name": "stdout",
     "output_type": "stream",
     "text": [
      "0.697149804133\n"
     ]
    },
    {
     "data": {
      "text/plain": [
       "low    14806\n",
       "dtype: int64"
      ]
     },
     "execution_count": 143,
     "metadata": {},
     "output_type": "execute_result"
    }
   ],
   "source": [
    "#logistic\n",
    "buffer2=pd.Series(mlog(x_last_train,y_train,x_last_test))\n",
    "print accuracy_score(buffer1,y_test)\n",
    "buffer2.value_counts()"
   ]
  },
  {
   "cell_type": "code",
   "execution_count": 144,
   "metadata": {
    "collapsed": false
   },
   "outputs": [
    {
     "name": "stdout",
     "output_type": "stream",
     "text": [
      "0.724571119816\n"
     ]
    },
    {
     "data": {
      "text/plain": [
       "low       11990\n",
       "medium     2208\n",
       "high        608\n",
       "dtype: int64"
      ]
     },
     "execution_count": 144,
     "metadata": {},
     "output_type": "execute_result"
    }
   ],
   "source": [
    "#random forest\n",
    "res=rfClassifier(x_last_train,y_train,x_last_test,y_test)\n",
    "print accuracy_score(res,y_test)\n",
    "pd.Series(res).value_counts()"
   ]
  },
  {
   "cell_type": "code",
   "execution_count": null,
   "metadata": {
    "collapsed": true
   },
   "outputs": [],
   "source": []
  }
 ],
 "metadata": {
  "anaconda-cloud": {},
  "kernelspec": {
   "display_name": "Python 2",
   "language": "python",
   "name": "python2"
  },
  "language_info": {
   "codemirror_mode": {
    "name": "ipython",
    "version": 2
   },
   "file_extension": ".py",
   "mimetype": "text/x-python",
   "name": "python",
   "nbconvert_exporter": "python",
   "pygments_lexer": "ipython2",
   "version": "2.7.12"
  }
 },
 "nbformat": 4,
 "nbformat_minor": 1
}
