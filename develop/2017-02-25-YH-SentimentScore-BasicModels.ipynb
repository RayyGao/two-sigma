{
 "cells": [
  {
   "cell_type": "code",
   "execution_count": 1,
   "metadata": {
    "collapsed": true
   },
   "outputs": [],
   "source": [
    "import pylab\n",
    "import calendar\n",
    "import numpy as np\n",
    "import pandas as pd\n",
    "import seaborn as sn\n",
    "from scipy import stats\n",
    "#import missingno as msno\n",
    "from datetime import datetime\n",
    "import matplotlib.pyplot as plt\n",
    "%matplotlib inline"
   ]
  },
  {
   "cell_type": "code",
   "execution_count": 5,
   "metadata": {
    "collapsed": false
   },
   "outputs": [],
   "source": [
    "data = pd.read_json(\"train.json\")"
   ]
  },
  {
   "cell_type": "code",
   "execution_count": 6,
   "metadata": {
    "collapsed": false
   },
   "outputs": [
    {
     "data": {
      "text/html": [
       "<div>\n",
       "<table border=\"1\" class=\"dataframe\">\n",
       "  <thead>\n",
       "    <tr style=\"text-align: right;\">\n",
       "      <th></th>\n",
       "      <th>bathrooms</th>\n",
       "      <th>bedrooms</th>\n",
       "      <th>building_id</th>\n",
       "      <th>created</th>\n",
       "      <th>description</th>\n",
       "      <th>display_address</th>\n",
       "      <th>features</th>\n",
       "      <th>interest_level</th>\n",
       "      <th>latitude</th>\n",
       "      <th>listing_id</th>\n",
       "      <th>longitude</th>\n",
       "      <th>manager_id</th>\n",
       "      <th>photos</th>\n",
       "      <th>price</th>\n",
       "      <th>street_address</th>\n",
       "    </tr>\n",
       "  </thead>\n",
       "  <tbody>\n",
       "    <tr>\n",
       "      <th>10</th>\n",
       "      <td>1.5</td>\n",
       "      <td>3</td>\n",
       "      <td>53a5b119ba8f7b61d4e010512e0dfc85</td>\n",
       "      <td>2016-06-24 07:54:24</td>\n",
       "      <td>A Brand New 3 Bedroom 1.5 bath ApartmentEnjoy ...</td>\n",
       "      <td>Metropolitan Avenue</td>\n",
       "      <td>[]</td>\n",
       "      <td>medium</td>\n",
       "      <td>40.7145</td>\n",
       "      <td>7211212</td>\n",
       "      <td>-73.9425</td>\n",
       "      <td>5ba989232d0489da1b5f2c45f6688adc</td>\n",
       "      <td>[https://photos.renthop.com/2/7211212_1ed4542e...</td>\n",
       "      <td>3000</td>\n",
       "      <td>792 Metropolitan Avenue</td>\n",
       "    </tr>\n",
       "    <tr>\n",
       "      <th>10000</th>\n",
       "      <td>1.0</td>\n",
       "      <td>2</td>\n",
       "      <td>c5c8a357cba207596b04d1afd1e4f130</td>\n",
       "      <td>2016-06-12 12:19:27</td>\n",
       "      <td></td>\n",
       "      <td>Columbus Avenue</td>\n",
       "      <td>[Doorman, Elevator, Fitness Center, Cats Allow...</td>\n",
       "      <td>low</td>\n",
       "      <td>40.7947</td>\n",
       "      <td>7150865</td>\n",
       "      <td>-73.9667</td>\n",
       "      <td>7533621a882f71e25173b27e3139d83d</td>\n",
       "      <td>[https://photos.renthop.com/2/7150865_be3306c5...</td>\n",
       "      <td>5465</td>\n",
       "      <td>808 Columbus Avenue</td>\n",
       "    </tr>\n",
       "    <tr>\n",
       "      <th>100004</th>\n",
       "      <td>1.0</td>\n",
       "      <td>1</td>\n",
       "      <td>c3ba40552e2120b0acfc3cb5730bb2aa</td>\n",
       "      <td>2016-04-17 03:26:41</td>\n",
       "      <td>Top Top West Village location, beautiful Pre-w...</td>\n",
       "      <td>W 13 Street</td>\n",
       "      <td>[Laundry In Building, Dishwasher, Hardwood Flo...</td>\n",
       "      <td>high</td>\n",
       "      <td>40.7388</td>\n",
       "      <td>6887163</td>\n",
       "      <td>-74.0018</td>\n",
       "      <td>d9039c43983f6e564b1482b273bd7b01</td>\n",
       "      <td>[https://photos.renthop.com/2/6887163_de85c427...</td>\n",
       "      <td>2850</td>\n",
       "      <td>241 W 13 Street</td>\n",
       "    </tr>\n",
       "    <tr>\n",
       "      <th>100007</th>\n",
       "      <td>1.0</td>\n",
       "      <td>1</td>\n",
       "      <td>28d9ad350afeaab8027513a3e52ac8d5</td>\n",
       "      <td>2016-04-18 02:22:02</td>\n",
       "      <td>Building Amenities - Garage - Garden - fitness...</td>\n",
       "      <td>East 49th Street</td>\n",
       "      <td>[Hardwood Floors, No Fee]</td>\n",
       "      <td>low</td>\n",
       "      <td>40.7539</td>\n",
       "      <td>6888711</td>\n",
       "      <td>-73.9677</td>\n",
       "      <td>1067e078446a7897d2da493d2f741316</td>\n",
       "      <td>[https://photos.renthop.com/2/6888711_6e660cee...</td>\n",
       "      <td>3275</td>\n",
       "      <td>333 East 49th Street</td>\n",
       "    </tr>\n",
       "    <tr>\n",
       "      <th>100013</th>\n",
       "      <td>1.0</td>\n",
       "      <td>4</td>\n",
       "      <td>0</td>\n",
       "      <td>2016-04-28 01:32:41</td>\n",
       "      <td>Beautifully renovated 3 bedroom flex 4 bedroom...</td>\n",
       "      <td>West 143rd Street</td>\n",
       "      <td>[Pre-War]</td>\n",
       "      <td>low</td>\n",
       "      <td>40.8241</td>\n",
       "      <td>6934781</td>\n",
       "      <td>-73.9493</td>\n",
       "      <td>98e13ad4b495b9613cef886d79a6291f</td>\n",
       "      <td>[https://photos.renthop.com/2/6934781_1fa4b41a...</td>\n",
       "      <td>3350</td>\n",
       "      <td>500 West 143rd Street</td>\n",
       "    </tr>\n",
       "  </tbody>\n",
       "</table>\n",
       "</div>"
      ],
      "text/plain": [
       "        bathrooms  bedrooms                       building_id  \\\n",
       "10            1.5         3  53a5b119ba8f7b61d4e010512e0dfc85   \n",
       "10000         1.0         2  c5c8a357cba207596b04d1afd1e4f130   \n",
       "100004        1.0         1  c3ba40552e2120b0acfc3cb5730bb2aa   \n",
       "100007        1.0         1  28d9ad350afeaab8027513a3e52ac8d5   \n",
       "100013        1.0         4                                 0   \n",
       "\n",
       "                    created  \\\n",
       "10      2016-06-24 07:54:24   \n",
       "10000   2016-06-12 12:19:27   \n",
       "100004  2016-04-17 03:26:41   \n",
       "100007  2016-04-18 02:22:02   \n",
       "100013  2016-04-28 01:32:41   \n",
       "\n",
       "                                              description  \\\n",
       "10      A Brand New 3 Bedroom 1.5 bath ApartmentEnjoy ...   \n",
       "10000                                                       \n",
       "100004  Top Top West Village location, beautiful Pre-w...   \n",
       "100007  Building Amenities - Garage - Garden - fitness...   \n",
       "100013  Beautifully renovated 3 bedroom flex 4 bedroom...   \n",
       "\n",
       "            display_address  \\\n",
       "10      Metropolitan Avenue   \n",
       "10000       Columbus Avenue   \n",
       "100004          W 13 Street   \n",
       "100007     East 49th Street   \n",
       "100013    West 143rd Street   \n",
       "\n",
       "                                                 features interest_level  \\\n",
       "10                                                     []         medium   \n",
       "10000   [Doorman, Elevator, Fitness Center, Cats Allow...            low   \n",
       "100004  [Laundry In Building, Dishwasher, Hardwood Flo...           high   \n",
       "100007                          [Hardwood Floors, No Fee]            low   \n",
       "100013                                          [Pre-War]            low   \n",
       "\n",
       "        latitude  listing_id  longitude                        manager_id  \\\n",
       "10       40.7145     7211212   -73.9425  5ba989232d0489da1b5f2c45f6688adc   \n",
       "10000    40.7947     7150865   -73.9667  7533621a882f71e25173b27e3139d83d   \n",
       "100004   40.7388     6887163   -74.0018  d9039c43983f6e564b1482b273bd7b01   \n",
       "100007   40.7539     6888711   -73.9677  1067e078446a7897d2da493d2f741316   \n",
       "100013   40.8241     6934781   -73.9493  98e13ad4b495b9613cef886d79a6291f   \n",
       "\n",
       "                                                   photos  price  \\\n",
       "10      [https://photos.renthop.com/2/7211212_1ed4542e...   3000   \n",
       "10000   [https://photos.renthop.com/2/7150865_be3306c5...   5465   \n",
       "100004  [https://photos.renthop.com/2/6887163_de85c427...   2850   \n",
       "100007  [https://photos.renthop.com/2/6888711_6e660cee...   3275   \n",
       "100013  [https://photos.renthop.com/2/6934781_1fa4b41a...   3350   \n",
       "\n",
       "                 street_address  \n",
       "10      792 Metropolitan Avenue  \n",
       "10000       808 Columbus Avenue  \n",
       "100004          241 W 13 Street  \n",
       "100007     333 East 49th Street  \n",
       "100013    500 West 143rd Street  "
      ]
     },
     "execution_count": 6,
     "metadata": {},
     "output_type": "execute_result"
    }
   ],
   "source": [
    "data.head()"
   ]
  },
  {
   "cell_type": "code",
   "execution_count": 10,
   "metadata": {
    "collapsed": false
   },
   "outputs": [],
   "source": [
    "from textblob import TextBlob\n",
    "import sys  \n",
    "\n",
    "reload(sys)  \n",
    "sys.setdefaultencoding('utf8')\n",
    "from textblob import TextBlob\n",
    "Polarity = map(lambda x: TextBlob(x),data.description)"
   ]
  },
  {
   "cell_type": "code",
   "execution_count": 31,
   "metadata": {
    "collapsed": false
   },
   "outputs": [],
   "source": [
    "low = data[data['interest_level']=='low']\n",
    "med = data[data['interest_level']=='medium']\n",
    "high = data[data['interest_level']=='high']"
   ]
  },
  {
   "cell_type": "code",
   "execution_count": 25,
   "metadata": {
    "collapsed": false
   },
   "outputs": [],
   "source": [
    "result=[]\n",
    "for i in range(len(Polarity)):\n",
    "    k = Polarity[i].sentiment.polarity\n",
    "    result.append(k)"
   ]
  },
  {
   "cell_type": "code",
   "execution_count": 47,
   "metadata": {
    "collapsed": false
   },
   "outputs": [],
   "source": [
    "data['Description Polarity']=result"
   ]
  },
  {
   "cell_type": "code",
   "execution_count": 81,
   "metadata": {
    "collapsed": false
   },
   "outputs": [
    {
     "data": {
      "text/html": [
       "<div>\n",
       "<table border=\"1\" class=\"dataframe\">\n",
       "  <thead>\n",
       "    <tr style=\"text-align: right;\">\n",
       "      <th></th>\n",
       "      <th>bathrooms</th>\n",
       "      <th>bedrooms</th>\n",
       "      <th>price</th>\n",
       "      <th>Description Polarity</th>\n",
       "    </tr>\n",
       "  </thead>\n",
       "  <tbody>\n",
       "    <tr>\n",
       "      <th>10</th>\n",
       "      <td>1.5</td>\n",
       "      <td>3</td>\n",
       "      <td>3000</td>\n",
       "      <td>0.221488</td>\n",
       "    </tr>\n",
       "    <tr>\n",
       "      <th>10000</th>\n",
       "      <td>1.0</td>\n",
       "      <td>2</td>\n",
       "      <td>5465</td>\n",
       "      <td>0.000000</td>\n",
       "    </tr>\n",
       "    <tr>\n",
       "      <th>100004</th>\n",
       "      <td>1.0</td>\n",
       "      <td>1</td>\n",
       "      <td>2850</td>\n",
       "      <td>0.258001</td>\n",
       "    </tr>\n",
       "    <tr>\n",
       "      <th>100007</th>\n",
       "      <td>1.0</td>\n",
       "      <td>1</td>\n",
       "      <td>3275</td>\n",
       "      <td>0.160000</td>\n",
       "    </tr>\n",
       "    <tr>\n",
       "      <th>100013</th>\n",
       "      <td>1.0</td>\n",
       "      <td>4</td>\n",
       "      <td>3350</td>\n",
       "      <td>0.410000</td>\n",
       "    </tr>\n",
       "    <tr>\n",
       "      <th>100014</th>\n",
       "      <td>2.0</td>\n",
       "      <td>4</td>\n",
       "      <td>7995</td>\n",
       "      <td>0.000000</td>\n",
       "    </tr>\n",
       "    <tr>\n",
       "      <th>100016</th>\n",
       "      <td>1.0</td>\n",
       "      <td>2</td>\n",
       "      <td>3600</td>\n",
       "      <td>0.466209</td>\n",
       "    </tr>\n",
       "    <tr>\n",
       "      <th>100020</th>\n",
       "      <td>2.0</td>\n",
       "      <td>1</td>\n",
       "      <td>5645</td>\n",
       "      <td>0.378671</td>\n",
       "    </tr>\n",
       "    <tr>\n",
       "      <th>100026</th>\n",
       "      <td>1.0</td>\n",
       "      <td>1</td>\n",
       "      <td>1725</td>\n",
       "      <td>0.000000</td>\n",
       "    </tr>\n",
       "    <tr>\n",
       "      <th>100027</th>\n",
       "      <td>2.0</td>\n",
       "      <td>4</td>\n",
       "      <td>5800</td>\n",
       "      <td>0.335758</td>\n",
       "    </tr>\n",
       "    <tr>\n",
       "      <th>100030</th>\n",
       "      <td>1.0</td>\n",
       "      <td>0</td>\n",
       "      <td>1950</td>\n",
       "      <td>0.335227</td>\n",
       "    </tr>\n",
       "    <tr>\n",
       "      <th>10004</th>\n",
       "      <td>1.0</td>\n",
       "      <td>1</td>\n",
       "      <td>1675</td>\n",
       "      <td>0.370982</td>\n",
       "    </tr>\n",
       "    <tr>\n",
       "      <th>100044</th>\n",
       "      <td>1.0</td>\n",
       "      <td>2</td>\n",
       "      <td>3000</td>\n",
       "      <td>0.383313</td>\n",
       "    </tr>\n",
       "    <tr>\n",
       "      <th>100048</th>\n",
       "      <td>2.0</td>\n",
       "      <td>2</td>\n",
       "      <td>6895</td>\n",
       "      <td>0.100000</td>\n",
       "    </tr>\n",
       "    <tr>\n",
       "      <th>10005</th>\n",
       "      <td>1.0</td>\n",
       "      <td>1</td>\n",
       "      <td>3050</td>\n",
       "      <td>0.089167</td>\n",
       "    </tr>\n",
       "    <tr>\n",
       "      <th>100051</th>\n",
       "      <td>1.0</td>\n",
       "      <td>0</td>\n",
       "      <td>2350</td>\n",
       "      <td>0.217667</td>\n",
       "    </tr>\n",
       "    <tr>\n",
       "      <th>100052</th>\n",
       "      <td>1.0</td>\n",
       "      <td>2</td>\n",
       "      <td>3650</td>\n",
       "      <td>0.542857</td>\n",
       "    </tr>\n",
       "    <tr>\n",
       "      <th>100053</th>\n",
       "      <td>1.0</td>\n",
       "      <td>1</td>\n",
       "      <td>1695</td>\n",
       "      <td>0.369173</td>\n",
       "    </tr>\n",
       "    <tr>\n",
       "      <th>100055</th>\n",
       "      <td>1.0</td>\n",
       "      <td>4</td>\n",
       "      <td>5000</td>\n",
       "      <td>0.000000</td>\n",
       "    </tr>\n",
       "    <tr>\n",
       "      <th>100058</th>\n",
       "      <td>1.0</td>\n",
       "      <td>1</td>\n",
       "      <td>3973</td>\n",
       "      <td>0.000000</td>\n",
       "    </tr>\n",
       "    <tr>\n",
       "      <th>100062</th>\n",
       "      <td>1.0</td>\n",
       "      <td>3</td>\n",
       "      <td>4395</td>\n",
       "      <td>0.319340</td>\n",
       "    </tr>\n",
       "    <tr>\n",
       "      <th>100063</th>\n",
       "      <td>1.0</td>\n",
       "      <td>2</td>\n",
       "      <td>2999</td>\n",
       "      <td>0.381818</td>\n",
       "    </tr>\n",
       "    <tr>\n",
       "      <th>100065</th>\n",
       "      <td>1.0</td>\n",
       "      <td>1</td>\n",
       "      <td>2595</td>\n",
       "      <td>0.000000</td>\n",
       "    </tr>\n",
       "    <tr>\n",
       "      <th>100066</th>\n",
       "      <td>1.0</td>\n",
       "      <td>1</td>\n",
       "      <td>3695</td>\n",
       "      <td>0.162143</td>\n",
       "    </tr>\n",
       "    <tr>\n",
       "      <th>10007</th>\n",
       "      <td>2.0</td>\n",
       "      <td>4</td>\n",
       "      <td>7400</td>\n",
       "      <td>0.370136</td>\n",
       "    </tr>\n",
       "    <tr>\n",
       "      <th>100071</th>\n",
       "      <td>3.5</td>\n",
       "      <td>4</td>\n",
       "      <td>7500</td>\n",
       "      <td>0.449786</td>\n",
       "    </tr>\n",
       "    <tr>\n",
       "      <th>100075</th>\n",
       "      <td>1.0</td>\n",
       "      <td>1</td>\n",
       "      <td>2295</td>\n",
       "      <td>0.526420</td>\n",
       "    </tr>\n",
       "    <tr>\n",
       "      <th>100076</th>\n",
       "      <td>1.0</td>\n",
       "      <td>1</td>\n",
       "      <td>3164</td>\n",
       "      <td>0.361134</td>\n",
       "    </tr>\n",
       "    <tr>\n",
       "      <th>100079</th>\n",
       "      <td>1.0</td>\n",
       "      <td>1</td>\n",
       "      <td>1350</td>\n",
       "      <td>0.000000</td>\n",
       "    </tr>\n",
       "    <tr>\n",
       "      <th>100081</th>\n",
       "      <td>2.0</td>\n",
       "      <td>2</td>\n",
       "      <td>5600</td>\n",
       "      <td>0.150000</td>\n",
       "    </tr>\n",
       "    <tr>\n",
       "      <th>...</th>\n",
       "      <td>...</td>\n",
       "      <td>...</td>\n",
       "      <td>...</td>\n",
       "      <td>...</td>\n",
       "    </tr>\n",
       "    <tr>\n",
       "      <th>99915</th>\n",
       "      <td>1.0</td>\n",
       "      <td>1</td>\n",
       "      <td>3126</td>\n",
       "      <td>0.242411</td>\n",
       "    </tr>\n",
       "    <tr>\n",
       "      <th>99917</th>\n",
       "      <td>1.0</td>\n",
       "      <td>1</td>\n",
       "      <td>3325</td>\n",
       "      <td>0.000000</td>\n",
       "    </tr>\n",
       "    <tr>\n",
       "      <th>99919</th>\n",
       "      <td>1.0</td>\n",
       "      <td>0</td>\n",
       "      <td>2100</td>\n",
       "      <td>0.209259</td>\n",
       "    </tr>\n",
       "    <tr>\n",
       "      <th>99921</th>\n",
       "      <td>1.0</td>\n",
       "      <td>2</td>\n",
       "      <td>3500</td>\n",
       "      <td>0.209286</td>\n",
       "    </tr>\n",
       "    <tr>\n",
       "      <th>99923</th>\n",
       "      <td>2.0</td>\n",
       "      <td>2</td>\n",
       "      <td>11950</td>\n",
       "      <td>0.152374</td>\n",
       "    </tr>\n",
       "    <tr>\n",
       "      <th>99924</th>\n",
       "      <td>1.0</td>\n",
       "      <td>1</td>\n",
       "      <td>2980</td>\n",
       "      <td>0.371786</td>\n",
       "    </tr>\n",
       "    <tr>\n",
       "      <th>99931</th>\n",
       "      <td>1.0</td>\n",
       "      <td>1</td>\n",
       "      <td>2850</td>\n",
       "      <td>0.256061</td>\n",
       "    </tr>\n",
       "    <tr>\n",
       "      <th>99933</th>\n",
       "      <td>1.0</td>\n",
       "      <td>2</td>\n",
       "      <td>2885</td>\n",
       "      <td>0.108855</td>\n",
       "    </tr>\n",
       "    <tr>\n",
       "      <th>99935</th>\n",
       "      <td>1.0</td>\n",
       "      <td>1</td>\n",
       "      <td>2950</td>\n",
       "      <td>0.033712</td>\n",
       "    </tr>\n",
       "    <tr>\n",
       "      <th>99937</th>\n",
       "      <td>1.5</td>\n",
       "      <td>0</td>\n",
       "      <td>2650</td>\n",
       "      <td>0.350000</td>\n",
       "    </tr>\n",
       "    <tr>\n",
       "      <th>9994</th>\n",
       "      <td>1.0</td>\n",
       "      <td>2</td>\n",
       "      <td>4850</td>\n",
       "      <td>0.470833</td>\n",
       "    </tr>\n",
       "    <tr>\n",
       "      <th>99953</th>\n",
       "      <td>1.0</td>\n",
       "      <td>1</td>\n",
       "      <td>3475</td>\n",
       "      <td>0.298162</td>\n",
       "    </tr>\n",
       "    <tr>\n",
       "      <th>99956</th>\n",
       "      <td>2.0</td>\n",
       "      <td>2</td>\n",
       "      <td>5815</td>\n",
       "      <td>0.143750</td>\n",
       "    </tr>\n",
       "    <tr>\n",
       "      <th>99960</th>\n",
       "      <td>1.0</td>\n",
       "      <td>1</td>\n",
       "      <td>2050</td>\n",
       "      <td>0.324596</td>\n",
       "    </tr>\n",
       "    <tr>\n",
       "      <th>99961</th>\n",
       "      <td>2.0</td>\n",
       "      <td>3</td>\n",
       "      <td>4600</td>\n",
       "      <td>0.442679</td>\n",
       "    </tr>\n",
       "    <tr>\n",
       "      <th>99964</th>\n",
       "      <td>1.0</td>\n",
       "      <td>0</td>\n",
       "      <td>2000</td>\n",
       "      <td>0.308260</td>\n",
       "    </tr>\n",
       "    <tr>\n",
       "      <th>99965</th>\n",
       "      <td>2.0</td>\n",
       "      <td>3</td>\n",
       "      <td>9200</td>\n",
       "      <td>0.003571</td>\n",
       "    </tr>\n",
       "    <tr>\n",
       "      <th>99966</th>\n",
       "      <td>1.0</td>\n",
       "      <td>3</td>\n",
       "      <td>4550</td>\n",
       "      <td>0.394697</td>\n",
       "    </tr>\n",
       "    <tr>\n",
       "      <th>99979</th>\n",
       "      <td>1.0</td>\n",
       "      <td>1</td>\n",
       "      <td>1900</td>\n",
       "      <td>0.000000</td>\n",
       "    </tr>\n",
       "    <tr>\n",
       "      <th>99980</th>\n",
       "      <td>1.0</td>\n",
       "      <td>0</td>\n",
       "      <td>2500</td>\n",
       "      <td>0.275000</td>\n",
       "    </tr>\n",
       "    <tr>\n",
       "      <th>99982</th>\n",
       "      <td>1.0</td>\n",
       "      <td>1</td>\n",
       "      <td>2500</td>\n",
       "      <td>0.469758</td>\n",
       "    </tr>\n",
       "    <tr>\n",
       "      <th>99984</th>\n",
       "      <td>1.0</td>\n",
       "      <td>1</td>\n",
       "      <td>2675</td>\n",
       "      <td>0.230265</td>\n",
       "    </tr>\n",
       "    <tr>\n",
       "      <th>99986</th>\n",
       "      <td>1.0</td>\n",
       "      <td>1</td>\n",
       "      <td>3645</td>\n",
       "      <td>0.378283</td>\n",
       "    </tr>\n",
       "    <tr>\n",
       "      <th>99987</th>\n",
       "      <td>1.0</td>\n",
       "      <td>1</td>\n",
       "      <td>2179</td>\n",
       "      <td>0.414419</td>\n",
       "    </tr>\n",
       "    <tr>\n",
       "      <th>99988</th>\n",
       "      <td>1.0</td>\n",
       "      <td>1</td>\n",
       "      <td>4500</td>\n",
       "      <td>0.180317</td>\n",
       "    </tr>\n",
       "    <tr>\n",
       "      <th>9999</th>\n",
       "      <td>1.0</td>\n",
       "      <td>2</td>\n",
       "      <td>3200</td>\n",
       "      <td>0.192273</td>\n",
       "    </tr>\n",
       "    <tr>\n",
       "      <th>99991</th>\n",
       "      <td>1.0</td>\n",
       "      <td>1</td>\n",
       "      <td>3950</td>\n",
       "      <td>0.319153</td>\n",
       "    </tr>\n",
       "    <tr>\n",
       "      <th>99992</th>\n",
       "      <td>1.0</td>\n",
       "      <td>1</td>\n",
       "      <td>2595</td>\n",
       "      <td>0.229821</td>\n",
       "    </tr>\n",
       "    <tr>\n",
       "      <th>99993</th>\n",
       "      <td>1.0</td>\n",
       "      <td>0</td>\n",
       "      <td>3350</td>\n",
       "      <td>0.265000</td>\n",
       "    </tr>\n",
       "    <tr>\n",
       "      <th>99994</th>\n",
       "      <td>1.0</td>\n",
       "      <td>2</td>\n",
       "      <td>2200</td>\n",
       "      <td>0.162372</td>\n",
       "    </tr>\n",
       "  </tbody>\n",
       "</table>\n",
       "<p>49352 rows × 4 columns</p>\n",
       "</div>"
      ],
      "text/plain": [
       "        bathrooms  bedrooms  price  Description Polarity\n",
       "10            1.5         3   3000              0.221488\n",
       "10000         1.0         2   5465              0.000000\n",
       "100004        1.0         1   2850              0.258001\n",
       "100007        1.0         1   3275              0.160000\n",
       "100013        1.0         4   3350              0.410000\n",
       "100014        2.0         4   7995              0.000000\n",
       "100016        1.0         2   3600              0.466209\n",
       "100020        2.0         1   5645              0.378671\n",
       "100026        1.0         1   1725              0.000000\n",
       "100027        2.0         4   5800              0.335758\n",
       "100030        1.0         0   1950              0.335227\n",
       "10004         1.0         1   1675              0.370982\n",
       "100044        1.0         2   3000              0.383313\n",
       "100048        2.0         2   6895              0.100000\n",
       "10005         1.0         1   3050              0.089167\n",
       "100051        1.0         0   2350              0.217667\n",
       "100052        1.0         2   3650              0.542857\n",
       "100053        1.0         1   1695              0.369173\n",
       "100055        1.0         4   5000              0.000000\n",
       "100058        1.0         1   3973              0.000000\n",
       "100062        1.0         3   4395              0.319340\n",
       "100063        1.0         2   2999              0.381818\n",
       "100065        1.0         1   2595              0.000000\n",
       "100066        1.0         1   3695              0.162143\n",
       "10007         2.0         4   7400              0.370136\n",
       "100071        3.5         4   7500              0.449786\n",
       "100075        1.0         1   2295              0.526420\n",
       "100076        1.0         1   3164              0.361134\n",
       "100079        1.0         1   1350              0.000000\n",
       "100081        2.0         2   5600              0.150000\n",
       "...           ...       ...    ...                   ...\n",
       "99915         1.0         1   3126              0.242411\n",
       "99917         1.0         1   3325              0.000000\n",
       "99919         1.0         0   2100              0.209259\n",
       "99921         1.0         2   3500              0.209286\n",
       "99923         2.0         2  11950              0.152374\n",
       "99924         1.0         1   2980              0.371786\n",
       "99931         1.0         1   2850              0.256061\n",
       "99933         1.0         2   2885              0.108855\n",
       "99935         1.0         1   2950              0.033712\n",
       "99937         1.5         0   2650              0.350000\n",
       "9994          1.0         2   4850              0.470833\n",
       "99953         1.0         1   3475              0.298162\n",
       "99956         2.0         2   5815              0.143750\n",
       "99960         1.0         1   2050              0.324596\n",
       "99961         2.0         3   4600              0.442679\n",
       "99964         1.0         0   2000              0.308260\n",
       "99965         2.0         3   9200              0.003571\n",
       "99966         1.0         3   4550              0.394697\n",
       "99979         1.0         1   1900              0.000000\n",
       "99980         1.0         0   2500              0.275000\n",
       "99982         1.0         1   2500              0.469758\n",
       "99984         1.0         1   2675              0.230265\n",
       "99986         1.0         1   3645              0.378283\n",
       "99987         1.0         1   2179              0.414419\n",
       "99988         1.0         1   4500              0.180317\n",
       "9999          1.0         2   3200              0.192273\n",
       "99991         1.0         1   3950              0.319153\n",
       "99992         1.0         1   2595              0.229821\n",
       "99993         1.0         0   3350              0.265000\n",
       "99994         1.0         2   2200              0.162372\n",
       "\n",
       "[49352 rows x 4 columns]"
      ]
     },
     "execution_count": 81,
     "metadata": {},
     "output_type": "execute_result"
    }
   ],
   "source": [
    "data[['bathrooms','bedrooms','price','Description Polarity']]"
   ]
  },
  {
   "cell_type": "code",
   "execution_count": 87,
   "metadata": {
    "collapsed": false
   },
   "outputs": [],
   "source": [
    "from sklearn.model_selection import train_test_split\n",
    "X_train, X_test, y_train, y_test = train_test_split(data[['bathrooms','bedrooms','price']], data['interest_level'], test_size=0.2, random_state=42)"
   ]
  },
  {
   "cell_type": "code",
   "execution_count": 91,
   "metadata": {
    "collapsed": false
   },
   "outputs": [
    {
     "data": {
      "text/plain": [
       "SVC(C=1.0, cache_size=200, class_weight=None, coef0=0.0,\n",
       "  decision_function_shape='ovo', degree=3, gamma='auto', kernel='rbf',\n",
       "  max_iter=-1, probability=False, random_state=None, shrinking=True,\n",
       "  tol=1e-08, verbose=False)"
      ]
     },
     "execution_count": 91,
     "metadata": {},
     "output_type": "execute_result"
    }
   ],
   "source": [
    "#Support Vector Machine\n",
    "from sklearn import svm\n",
    "clf = svm.SVC(decision_function_shape='ovo',tol=0.00000001)\n",
    "clf.fit(X_train, y_train)"
   ]
  },
  {
   "cell_type": "code",
   "execution_count": 92,
   "metadata": {
    "collapsed": false
   },
   "outputs": [
    {
     "data": {
      "text/plain": [
       "0.71801626098629723"
      ]
     },
     "execution_count": 92,
     "metadata": {},
     "output_type": "execute_result"
    }
   ],
   "source": [
    "clf.score(X_train,y_train) #Model accuracy for SVM\n"
   ]
  },
  {
   "cell_type": "code",
   "execution_count": 93,
   "metadata": {
    "collapsed": false
   },
   "outputs": [
    {
     "data": {
      "text/plain": [
       "0.69141930908722515"
      ]
     },
     "execution_count": 93,
     "metadata": {},
     "output_type": "execute_result"
    }
   ],
   "source": [
    "from sklearn.metrics import accuracy_score\n",
    "\n",
    "accuracy_score(y_test,clf.predict(X_test)) #Test dataset accuracy for SVM"
   ]
  },
  {
   "cell_type": "code",
   "execution_count": 94,
   "metadata": {
    "collapsed": false
   },
   "outputs": [
    {
     "data": {
      "text/plain": [
       "0.69582837314151114"
      ]
     },
     "execution_count": 94,
     "metadata": {},
     "output_type": "execute_result"
    }
   ],
   "source": [
    "#Multinomial Naive Bayes\n",
    "from sklearn import naive_bayes\n",
    "mnb = naive_bayes.MultinomialNB()\n",
    "mnb.fit(X_train,y_train)\n",
    "mnb.score(X_train,y_train) #Model accuracy \n"
   ]
  },
  {
   "cell_type": "code",
   "execution_count": 95,
   "metadata": {
    "collapsed": false
   },
   "outputs": [
    {
     "data": {
      "text/plain": [
       "0.68787356904062402"
      ]
     },
     "execution_count": 95,
     "metadata": {},
     "output_type": "execute_result"
    }
   ],
   "source": [
    "from sklearn.metrics import accuracy_score\n",
    "\n",
    "accuracy_score(y_test,mnb.predict(X_test)) #Test dataset accuracy"
   ]
  },
  {
   "cell_type": "code",
   "execution_count": 97,
   "metadata": {
    "collapsed": false
   },
   "outputs": [
    {
     "data": {
      "text/plain": [
       "0.73230161343431022"
      ]
     },
     "execution_count": 97,
     "metadata": {},
     "output_type": "execute_result"
    }
   ],
   "source": [
    "#Random Forest\n",
    "from sklearn.ensemble import RandomForestClassifier\n",
    "clf1 = RandomForestClassifier(n_estimators=10)\n",
    "clf1 = clf1.fit(X_train,y_train)\n",
    "clf1.score(X_train,y_train)"
   ]
  },
  {
   "cell_type": "code",
   "execution_count": 98,
   "metadata": {
    "collapsed": false
   },
   "outputs": [
    {
     "data": {
      "text/plain": [
       "0.68098470266437039"
      ]
     },
     "execution_count": 98,
     "metadata": {},
     "output_type": "execute_result"
    }
   ],
   "source": [
    "from sklearn.metrics import accuracy_score\n",
    "\n",
    "accuracy_score(y_test,clf1.predict(X_test))"
   ]
  },
  {
   "cell_type": "code",
   "execution_count": 107,
   "metadata": {
    "collapsed": false
   },
   "outputs": [
    {
     "data": {
      "text/plain": [
       "0.70124870190724653"
      ]
     },
     "execution_count": 107,
     "metadata": {},
     "output_type": "execute_result"
    }
   ],
   "source": [
    "#GradientBoostingClassifier\n",
    "from sklearn.datasets import make_hastie_10_2\n",
    "from sklearn.ensemble import GradientBoostingClassifier\n",
    "clf2 = GradientBoostingClassifier(n_estimators=20, learning_rate=1.0,max_depth=1, random_state=0).fit(X_train, y_train)\n",
    "clf2 = clf2.fit(X_train,y_train)\n",
    "clf2.score(X_train,y_train)"
   ]
  },
  {
   "cell_type": "code",
   "execution_count": 108,
   "metadata": {
    "collapsed": false
   },
   "outputs": [
    {
     "data": {
      "text/plain": [
       "0.69476243541687777"
      ]
     },
     "execution_count": 108,
     "metadata": {},
     "output_type": "execute_result"
    }
   ],
   "source": [
    "from sklearn.metrics import accuracy_score\n",
    "\n",
    "accuracy_score(y_test,clf2.predict(X_test))"
   ]
  },
  {
   "cell_type": "code",
   "execution_count": null,
   "metadata": {
    "collapsed": true
   },
   "outputs": [],
   "source": []
  }
 ],
 "metadata": {
  "kernelspec": {
   "display_name": "Python [default]",
   "language": "python",
   "name": "python2"
  },
  "language_info": {
   "codemirror_mode": {
    "name": "ipython",
    "version": 2
   },
   "file_extension": ".py",
   "mimetype": "text/x-python",
   "name": "python",
   "nbconvert_exporter": "python",
   "pygments_lexer": "ipython2",
   "version": "2.7.12"
  }
 },
 "nbformat": 4,
 "nbformat_minor": 1
}
