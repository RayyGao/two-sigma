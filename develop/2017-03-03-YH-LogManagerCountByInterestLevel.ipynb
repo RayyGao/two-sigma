{
 "cells": [
  {
   "cell_type": "code",
   "execution_count": 1,
   "metadata": {
    "collapsed": true
   },
   "outputs": [],
   "source": [
    "import numpy as np\n",
    "import pandas as pd\n",
    "\n",
    "distinct_features = [\"By Owner\",\n",
    "                     \"Exclusive\",\n",
    "                     \"Sublet / Lease-Break\",\n",
    "                     \"No Fee\",\n",
    "                     \"Reduced Fee\",\n",
    "                     \"Short Term Allowed\",\n",
    "                     \"Furnished\",\n",
    "                     \"Laundry In Unit\",\n",
    "                     \"Private Outdoor Space\",\n",
    "                     \"Parking Space\",\n",
    "                     \"Cats Allowed\",\n",
    "                     \"Dogs Allowed\",\n",
    "                     \"Doorman\",\n",
    "                     \"Elevator\",\n",
    "                     \"Fitness Center\",\n",
    "                     \"Laundry In Building\",\n",
    "                     \"Common Outdoor Space\",\n",
    "                     \"Storage Facility\"]\n",
    "\n",
    "def load_data(filename):\n",
    "    with open(filename) as f:\n",
    "        data = pd.read_json(f)\n",
    "\n",
    "    dist = data.features.apply(\n",
    "        lambda x: pd.Series(map(lambda z: 1 if (z in x) else 0, distinct_features) +\n",
    "                            [list(np.setdiff1d(x, distinct_features))]))\n",
    "    dist.columns = distinct_features + [\"UNIQUES\"]\n",
    "\n",
    "    data = data.join(dist)\n",
    "\n",
    "    man_counts = pd.DataFrame(data.manager_id.value_counts())\n",
    "    man_counts[\"manager count\"] = man_counts[\"manager_id\"]\n",
    "    man_counts[\"manager_id\"] = man_counts.index\n",
    "\n",
    "    data = pd.merge(data, man_counts, on=\"manager_id\")\n",
    "\n",
    "    return data\n",
    "\n",
    "\n",
    "train_data = pd.read_json(\"~/two-sigma/data/processed_train.json\")"
   ]
  },
  {
   "cell_type": "code",
   "execution_count": 4,
   "metadata": {
    "collapsed": false
   },
   "outputs": [
    {
     "data": {
      "text/plain": [
       "Index([u'By Owner', u'Cats Allowed', u'Common Outdoor Space', u'Dogs Allowed',\n",
       "       u'Doorman', u'Elevator', u'Exclusive', u'Fitness Center', u'Furnished',\n",
       "       u'Laundry In Building', u'Laundry In Unit', u'No Fee', u'Parking Space',\n",
       "       u'Private Outdoor Space', u'Reduced Fee', u'Short Term Allowed',\n",
       "       u'Storage Facility', u'Sublet / Lease-Break', u'avg_brightness',\n",
       "       u'avg_imagesize', u'avg_luminance', u'bathrooms', u'bedrooms',\n",
       "       u'building_id', u'created', u'description', u'description_sentiment',\n",
       "       u'display_address', u'dist_count', u'features', u'img_quantity',\n",
       "       u'interest_level', u'latitude', u'listing_id', u'longitude',\n",
       "       u'manager count', u'manager_id', u'photos', u'price', u'street_address',\n",
       "       u'unique_count', u'word_count'],\n",
       "      dtype='object')"
      ]
     },
     "execution_count": 4,
     "metadata": {},
     "output_type": "execute_result"
    }
   ],
   "source": [
    "train_data.columns"
   ]
  },
  {
   "cell_type": "code",
   "execution_count": 158,
   "metadata": {
    "collapsed": true
   },
   "outputs": [],
   "source": [
    "import numpy as np\n",
    "train_data['LogScaledPrice'] = np.log(train_data['price'])"
   ]
  },
  {
   "cell_type": "code",
   "execution_count": 213,
   "metadata": {
    "collapsed": true
   },
   "outputs": [],
   "source": [
    "train_data['Rooms'] = train_data['bedrooms'] + train_data['bathrooms']"
   ]
  },
  {
   "cell_type": "code",
   "execution_count": 227,
   "metadata": {
    "collapsed": true
   },
   "outputs": [],
   "source": [
    "train_data = train_data.fillna(0)"
   ]
  },
  {
   "cell_type": "code",
   "execution_count": 228,
   "metadata": {
    "collapsed": true
   },
   "outputs": [],
   "source": [
    "df = train_data[['LogScaledPrice','avg_imagesize','word_count','avg_luminance','description_sentiment','Rooms']]\n",
    "\n",
    "df1 = train_data['interest_level']"
   ]
  },
  {
   "cell_type": "code",
   "execution_count": 235,
   "metadata": {
    "collapsed": true
   },
   "outputs": [],
   "source": [
    "from sklearn.model_selection import train_test_split\n",
    "X_train, X_test, y_train, y_test = train_test_split(df, df1, test_size=0.2, random_state=42)"
   ]
  },
  {
   "cell_type": "code",
   "execution_count": 236,
   "metadata": {
    "collapsed": false
   },
   "outputs": [
    {
     "data": {
      "text/plain": [
       "0.69468858438236114"
      ]
     },
     "execution_count": 236,
     "metadata": {},
     "output_type": "execute_result"
    }
   ],
   "source": [
    "from sklearn.ensemble import RandomForestClassifier\n",
    "clf1 = RandomForestClassifier(n_estimators=65,max_features = 'sqrt',oob_score=True,min_samples_leaf = 400,n_jobs = 1)\n",
    "clf1 = clf1.fit(X_train,y_train)\n",
    "clf1.score(X_train,y_train)"
   ]
  },
  {
   "cell_type": "code",
   "execution_count": 237,
   "metadata": {
    "collapsed": false
   },
   "outputs": [
    {
     "data": {
      "text/plain": [
       "0.69466112855840345"
      ]
     },
     "execution_count": 237,
     "metadata": {},
     "output_type": "execute_result"
    }
   ],
   "source": [
    "from sklearn.metrics import accuracy_score\n",
    "\n",
    "accuracy_score(y_test,clf1.predict(X_test))"
   ]
  },
  {
   "cell_type": "code",
   "execution_count": null,
   "metadata": {
    "collapsed": true
   },
   "outputs": [],
   "source": []
  },
  {
   "cell_type": "code",
   "execution_count": null,
   "metadata": {
    "collapsed": true
   },
   "outputs": [],
   "source": []
  }
 ],
 "metadata": {
  "kernelspec": {
   "display_name": "Python [default]",
   "language": "python",
   "name": "python2"
  },
  "language_info": {
   "codemirror_mode": {
    "name": "ipython",
    "version": 2
   },
   "file_extension": ".py",
   "mimetype": "text/x-python",
   "name": "python",
   "nbconvert_exporter": "python",
   "pygments_lexer": "ipython2",
   "version": "2.7.12"
  }
 },
 "nbformat": 4,
 "nbformat_minor": 1
}
